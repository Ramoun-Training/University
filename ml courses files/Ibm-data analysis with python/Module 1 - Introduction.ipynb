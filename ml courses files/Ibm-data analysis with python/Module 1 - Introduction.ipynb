{
 "cells": [
  {
   "cell_type": "markdown",
   "metadata": {},
   "source": [
    "# Importing and Exporting Data in Python 4:13"
   ]
  },
  {
   "cell_type": "markdown",
   "metadata": {},
   "source": [
    "### - Using Pandas for the first time "
   ]
  },
  {
   "cell_type": "markdown",
   "metadata": {},
   "source": [
    "+ Great datasets source: https://archive.ics.uci.edu/ml/index.php"
   ]
  },
  {
   "cell_type": "code",
   "execution_count": 1,
   "metadata": {},
   "outputs": [],
   "source": [
    "import pandas as pd #importing the pandas library\n",
    "\n",
    "#where the data is stored\n",
    "data_dir = 'Data/imports-85.data'\n",
    "\n",
    "#reading the data\n",
    "data = pd.read_csv(data_dir, header=None) #because in our case the data has no header\n",
    "\n"
   ]
  },
  {
   "cell_type": "code",
   "execution_count": 2,
   "metadata": {
    "scrolled": true
   },
   "outputs": [
    {
     "data": {
      "text/html": [
       "<div>\n",
       "<style scoped>\n",
       "    .dataframe tbody tr th:only-of-type {\n",
       "        vertical-align: middle;\n",
       "    }\n",
       "\n",
       "    .dataframe tbody tr th {\n",
       "        vertical-align: top;\n",
       "    }\n",
       "\n",
       "    .dataframe thead th {\n",
       "        text-align: right;\n",
       "    }\n",
       "</style>\n",
       "<table border=\"1\" class=\"dataframe\">\n",
       "  <thead>\n",
       "    <tr style=\"text-align: right;\">\n",
       "      <th></th>\n",
       "      <th>0</th>\n",
       "      <th>1</th>\n",
       "      <th>2</th>\n",
       "      <th>3</th>\n",
       "      <th>4</th>\n",
       "      <th>5</th>\n",
       "      <th>6</th>\n",
       "      <th>7</th>\n",
       "      <th>8</th>\n",
       "      <th>9</th>\n",
       "      <th>...</th>\n",
       "      <th>16</th>\n",
       "      <th>17</th>\n",
       "      <th>18</th>\n",
       "      <th>19</th>\n",
       "      <th>20</th>\n",
       "      <th>21</th>\n",
       "      <th>22</th>\n",
       "      <th>23</th>\n",
       "      <th>24</th>\n",
       "      <th>25</th>\n",
       "    </tr>\n",
       "  </thead>\n",
       "  <tbody>\n",
       "    <tr>\n",
       "      <td>0</td>\n",
       "      <td>3</td>\n",
       "      <td>?</td>\n",
       "      <td>alfa-romero</td>\n",
       "      <td>gas</td>\n",
       "      <td>std</td>\n",
       "      <td>two</td>\n",
       "      <td>convertible</td>\n",
       "      <td>rwd</td>\n",
       "      <td>front</td>\n",
       "      <td>88.6</td>\n",
       "      <td>...</td>\n",
       "      <td>130</td>\n",
       "      <td>mpfi</td>\n",
       "      <td>3.47</td>\n",
       "      <td>2.68</td>\n",
       "      <td>9.0</td>\n",
       "      <td>111</td>\n",
       "      <td>5000</td>\n",
       "      <td>21</td>\n",
       "      <td>27</td>\n",
       "      <td>13495</td>\n",
       "    </tr>\n",
       "    <tr>\n",
       "      <td>1</td>\n",
       "      <td>3</td>\n",
       "      <td>?</td>\n",
       "      <td>alfa-romero</td>\n",
       "      <td>gas</td>\n",
       "      <td>std</td>\n",
       "      <td>two</td>\n",
       "      <td>convertible</td>\n",
       "      <td>rwd</td>\n",
       "      <td>front</td>\n",
       "      <td>88.6</td>\n",
       "      <td>...</td>\n",
       "      <td>130</td>\n",
       "      <td>mpfi</td>\n",
       "      <td>3.47</td>\n",
       "      <td>2.68</td>\n",
       "      <td>9.0</td>\n",
       "      <td>111</td>\n",
       "      <td>5000</td>\n",
       "      <td>21</td>\n",
       "      <td>27</td>\n",
       "      <td>16500</td>\n",
       "    </tr>\n",
       "  </tbody>\n",
       "</table>\n",
       "<p>2 rows × 26 columns</p>\n",
       "</div>"
      ],
      "text/plain": [
       "   0  1            2    3    4    5            6    7      8     9   ...   16  \\\n",
       "0   3  ?  alfa-romero  gas  std  two  convertible  rwd  front  88.6  ...  130   \n",
       "1   3  ?  alfa-romero  gas  std  two  convertible  rwd  front  88.6  ...  130   \n",
       "\n",
       "     17    18    19   20   21    22  23  24     25  \n",
       "0  mpfi  3.47  2.68  9.0  111  5000  21  27  13495  \n",
       "1  mpfi  3.47  2.68  9.0  111  5000  21  27  16500  \n",
       "\n",
       "[2 rows x 26 columns]"
      ]
     },
     "execution_count": 2,
     "metadata": {},
     "output_type": "execute_result"
    }
   ],
   "source": [
    "#printing the data\n",
    "#dataframe prints the whole data\n",
    "#to save time we can use data.head(n) to show the first  n rows only or \n",
    "#data.tail(n) to show last n rows\n",
    "#by default n = 5\n",
    "data.head(2)"
   ]
  },
  {
   "cell_type": "code",
   "execution_count": 4,
   "metadata": {},
   "outputs": [
    {
     "name": "stdout",
     "output_type": "stream",
     "text": [
      "26\n"
     ]
    }
   ],
   "source": [
    "header = ['symboling:',               \n",
    "  'normalized-losses:',        \n",
    "  'make:'             ,  \n",
    "  ' fuel-type: ',        \n",
    "  'aspiration:'       ,        \n",
    "  'num-of-doors:'     ,        \n",
    "  'body-style:'       ,        \n",
    "  'drive-wheels:'     ,        \n",
    "  'engine-location:'  ,        \n",
    " 'wheel-base:'       ,        \n",
    " 'length:'           ,        \n",
    " 'width:'            ,        \n",
    " 'height:'           ,        \n",
    " 'curb-weight:'      ,        \n",
    " 'engine-type:'      ,        \n",
    " 'num-of-cylinders:' ,        \n",
    " 'engine-size:'      ,        \n",
    " 'fuel-system:'      ,        \n",
    " 'bore:'             ,        \n",
    " 'stroke:'           ,        \n",
    " 'compression-ratio:',        \n",
    " 'horsepower:'       ,        \n",
    " 'peak-rpm:'         ,        \n",
    " 'city-mpg:'         ,        \n",
    " 'highway-mpg:'      ,        \n",
    " 'price:'         ]      \n",
    "print(len(header))"
   ]
  },
  {
   "cell_type": "code",
   "execution_count": 6,
   "metadata": {},
   "outputs": [],
   "source": [
    "#passing the list of headers to replace the auto-generated indexes by pandas\n",
    "data.columns = header"
   ]
  },
  {
   "cell_type": "code",
   "execution_count": 8,
   "metadata": {},
   "outputs": [
    {
     "data": {
      "text/html": [
       "<div>\n",
       "<style scoped>\n",
       "    .dataframe tbody tr th:only-of-type {\n",
       "        vertical-align: middle;\n",
       "    }\n",
       "\n",
       "    .dataframe tbody tr th {\n",
       "        vertical-align: top;\n",
       "    }\n",
       "\n",
       "    .dataframe thead th {\n",
       "        text-align: right;\n",
       "    }\n",
       "</style>\n",
       "<table border=\"1\" class=\"dataframe\">\n",
       "  <thead>\n",
       "    <tr style=\"text-align: right;\">\n",
       "      <th></th>\n",
       "      <th>symboling:</th>\n",
       "      <th>normalized-losses:</th>\n",
       "      <th>make:</th>\n",
       "      <th>fuel-type:</th>\n",
       "      <th>aspiration:</th>\n",
       "      <th>num-of-doors:</th>\n",
       "      <th>body-style:</th>\n",
       "      <th>drive-wheels:</th>\n",
       "      <th>engine-location:</th>\n",
       "      <th>wheel-base:</th>\n",
       "      <th>...</th>\n",
       "      <th>engine-size:</th>\n",
       "      <th>fuel-system:</th>\n",
       "      <th>bore:</th>\n",
       "      <th>stroke:</th>\n",
       "      <th>compression-ratio:</th>\n",
       "      <th>horsepower:</th>\n",
       "      <th>peak-rpm:</th>\n",
       "      <th>city-mpg:</th>\n",
       "      <th>highway-mpg:</th>\n",
       "      <th>price:</th>\n",
       "    </tr>\n",
       "  </thead>\n",
       "  <tbody>\n",
       "    <tr>\n",
       "      <td>0</td>\n",
       "      <td>3</td>\n",
       "      <td>?</td>\n",
       "      <td>alfa-romero</td>\n",
       "      <td>gas</td>\n",
       "      <td>std</td>\n",
       "      <td>two</td>\n",
       "      <td>convertible</td>\n",
       "      <td>rwd</td>\n",
       "      <td>front</td>\n",
       "      <td>88.6</td>\n",
       "      <td>...</td>\n",
       "      <td>130</td>\n",
       "      <td>mpfi</td>\n",
       "      <td>3.47</td>\n",
       "      <td>2.68</td>\n",
       "      <td>9.0</td>\n",
       "      <td>111</td>\n",
       "      <td>5000</td>\n",
       "      <td>21</td>\n",
       "      <td>27</td>\n",
       "      <td>13495</td>\n",
       "    </tr>\n",
       "    <tr>\n",
       "      <td>1</td>\n",
       "      <td>3</td>\n",
       "      <td>?</td>\n",
       "      <td>alfa-romero</td>\n",
       "      <td>gas</td>\n",
       "      <td>std</td>\n",
       "      <td>two</td>\n",
       "      <td>convertible</td>\n",
       "      <td>rwd</td>\n",
       "      <td>front</td>\n",
       "      <td>88.6</td>\n",
       "      <td>...</td>\n",
       "      <td>130</td>\n",
       "      <td>mpfi</td>\n",
       "      <td>3.47</td>\n",
       "      <td>2.68</td>\n",
       "      <td>9.0</td>\n",
       "      <td>111</td>\n",
       "      <td>5000</td>\n",
       "      <td>21</td>\n",
       "      <td>27</td>\n",
       "      <td>16500</td>\n",
       "    </tr>\n",
       "  </tbody>\n",
       "</table>\n",
       "<p>2 rows × 26 columns</p>\n",
       "</div>"
      ],
      "text/plain": [
       "   symboling: normalized-losses:        make:  fuel-type:  aspiration:  \\\n",
       "0           3                  ?  alfa-romero          gas         std   \n",
       "1           3                  ?  alfa-romero          gas         std   \n",
       "\n",
       "  num-of-doors:  body-style: drive-wheels: engine-location:  wheel-base:  ...  \\\n",
       "0           two  convertible           rwd            front         88.6  ...   \n",
       "1           two  convertible           rwd            front         88.6  ...   \n",
       "\n",
       "   engine-size:  fuel-system:  bore:  stroke: compression-ratio: horsepower:  \\\n",
       "0           130          mpfi   3.47     2.68                9.0         111   \n",
       "1           130          mpfi   3.47     2.68                9.0         111   \n",
       "\n",
       "   peak-rpm: city-mpg: highway-mpg: price:  \n",
       "0       5000        21           27  13495  \n",
       "1       5000        21           27  16500  \n",
       "\n",
       "[2 rows x 26 columns]"
      ]
     },
     "execution_count": 8,
     "metadata": {},
     "output_type": "execute_result"
    }
   ],
   "source": [
    "#showing the dataframe again after adding the header\n",
    "data.head(2)"
   ]
  },
  {
   "cell_type": "code",
   "execution_count": 12,
   "metadata": {},
   "outputs": [],
   "source": [
    "#now let's save the new dataframe into a file \n",
    "saving_path = 'Data/automobile.csv'\n",
    "data.to_csv(saving_path)"
   ]
  },
  {
   "cell_type": "markdown",
   "metadata": {},
   "source": [
    "# Getting Started Analyzing Data in Python 4:14"
   ]
  },
  {
   "cell_type": "markdown",
   "metadata": {},
   "source": [
    "### - Famous Pandas DataTypes\n",
    "<table style=\"text-align:center\">\n",
    "    <tr style=\"background:black;color:white\">\n",
    "        <td><strong>Pandas type</strong></td>\n",
    "        <td><strong>Native Python type</strong></td>\n",
    "        <td><strong>Description</strong></td>\n",
    "    </tr>\n",
    "    <tr>\n",
    "        <td>Object</td>\n",
    "        <td>String</td>\n",
    "        <td>numbers and strings</td>\n",
    "    </tr>\n",
    "    <tr>\n",
    "        <td>int64</td>\n",
    "        <td>int</td>\n",
    "        <td>numeric characters(integers)</td>\n",
    "    </tr>\n",
    "    <tr>\n",
    "        <td>float64</td>\n",
    "        <td>float</td>\n",
    "        <td>numeric characters(decimals)</td>\n",
    "    </tr>\n",
    "    <tr>\n",
    "        <td>datetime64, timedelta</td>\n",
    "        <td>N/A (but you can check out the datetime library in python)</td>\n",
    "        <td>dates and times</td>\n",
    "    </tr>\n",
    "</table>"
   ]
  },
  {
   "cell_type": "markdown",
   "metadata": {},
   "source": [
    "+ Why Check Datatypes in a dataset?\n"
   ]
  },
  {
   "cell_type": "code",
   "execution_count": 1,
   "metadata": {},
   "outputs": [
    {
     "name": "stdout",
     "output_type": "stream",
     "text": [
      "this code was made on my galaxy j7\n"
     ]
    }
   ],
   "source": [
    "print(\"this code was made on my galaxy j7\")"
   ]
  }
 ],
 "metadata": {
  "kernelspec": {
   "display_name": "Python 3",
   "language": "python",
   "name": "python3"
  },
  "language_info": {
   "codemirror_mode": {
    "name": "ipython",
    "version": 3
   },
   "file_extension": ".py",
   "mimetype": "text/x-python",
   "name": "python",
   "nbconvert_exporter": "python",
   "pygments_lexer": "ipython3",
   "version": "3.7.2"
  }
 },
 "nbformat": 4,
 "nbformat_minor": 2
}
